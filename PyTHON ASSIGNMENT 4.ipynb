{
 "cells": [
  {
   "cell_type": "markdown",
   "id": "5ec232a4",
   "metadata": {},
   "source": [
    "## Write a Python Program(with class concepts) to find the area of the triangle using the below\n",
    "formula.\n",
    "area = (s*(s-a)*(s-b)*(s-c)) ** 0.5\n",
    "Function to take the length of the sides of triangle from user should be defined in the parent\n",
    "class and function to calculate the area should be defined in subclass."
   ]
  },
  {
   "cell_type": "code",
   "execution_count": 7,
   "id": "09e992db",
   "metadata": {},
   "outputs": [],
   "source": [
    "class Triangle:\n",
    "    def __init__(self):\n",
    "        self.a = float(input(\"enter side a: \"))\n",
    "        self.b = float(input(\"enter side b : \"))\n",
    "        self.c = float(input(\"enter side c : \"))\n",
    "        "
   ]
  },
  {
   "cell_type": "code",
   "execution_count": 8,
   "id": "54a051e7",
   "metadata": {},
   "outputs": [],
   "source": [
    "class Area_of_triangle(Triangle):\n",
    "    \n",
    "    def area(self):\n",
    "        s = (self.a + self.b + self.c) / 2\n",
    "        area = (s*(s - self.a) * (s - self.b) * (s - self.c)) ** 0.5\n",
    "        return area\n",
    "    \n",
    "        \n",
    "    "
   ]
  },
  {
   "cell_type": "code",
   "execution_count": 9,
   "id": "e8a62da5",
   "metadata": {},
   "outputs": [
    {
     "name": "stdout",
     "output_type": "stream",
     "text": [
      "enter side a: 8\n",
      "enter side b : 9\n",
      "enter side c : 6\n"
     ]
    },
    {
     "data": {
      "text/plain": [
       "23.525252389719434"
      ]
     },
     "execution_count": 9,
     "metadata": {},
     "output_type": "execute_result"
    }
   ],
   "source": [
    "a = Area_of_triangle()\n",
    "a.area()\n"
   ]
  },
  {
   "cell_type": "markdown",
   "id": "496df061",
   "metadata": {},
   "source": [
    "## Q2-  Write a function filter_long_words() that takes a list of words and an integer n and returns\n",
    "the list of words that are longer than n."
   ]
  },
  {
   "cell_type": "code",
   "execution_count": 5,
   "id": "1496467d",
   "metadata": {},
   "outputs": [],
   "source": [
    "def filter_long_words(words,n):\n",
    "    for i in words:\n",
    "        if len(i) <= n:\n",
    "            words.remove(i)\n",
    "    return words"
   ]
  },
  {
   "cell_type": "code",
   "execution_count": 6,
   "id": "be2d1a58",
   "metadata": {},
   "outputs": [
    {
     "data": {
      "text/plain": [
       "['tapaswani', 'dictionary', 'python']"
      ]
     },
     "execution_count": 6,
     "metadata": {},
     "output_type": "execute_result"
    }
   ],
   "source": [
    "words = [\"tapaswani\",\"ineuron\",\"dictionary\",\"mother\",\"python\",\"computer\"]\n",
    "filter_long_words(words,8)"
   ]
  },
  {
   "cell_type": "markdown",
   "id": "395a639a",
   "metadata": {},
   "source": [
    "## Q3 - Write a Python program using function concept that maps list of words into a list of integers\n",
    "representing the lengths of the corresponding words.\n",
    "Hint: If a list [ ab,cde,erty] is passed on to the python function output should come as [2,3,4]\n",
    "Here 2,3 and 4 are the lengths of the words in the list."
   ]
  },
  {
   "cell_type": "code",
   "execution_count": 16,
   "id": "0018970d",
   "metadata": {},
   "outputs": [],
   "source": [
    "def map_words(words):\n",
    "    return list(map(lambda x : len(x),words))"
   ]
  },
  {
   "cell_type": "code",
   "execution_count": 17,
   "id": "3484f8ae",
   "metadata": {},
   "outputs": [
    {
     "data": {
      "text/plain": [
       "[2, 3, 4]"
      ]
     },
     "execution_count": 17,
     "metadata": {},
     "output_type": "execute_result"
    }
   ],
   "source": [
    "l = ['ab','cde','erty']\n",
    "map_words(l)\n",
    "      "
   ]
  },
  {
   "cell_type": "markdown",
   "id": "21696f60",
   "metadata": {},
   "source": [
    "## Q4 - 2.2 Write a Python function which takes a character (i.e. a string of length 1) and returns True if\n",
    "it is a vowel, False otherwise."
   ]
  },
  {
   "cell_type": "code",
   "execution_count": 27,
   "id": "75872e84",
   "metadata": {},
   "outputs": [],
   "source": [
    "vowels = ['a','e','i','o','u']\n",
    "def f_vowels(char):\n",
    "        if char in vowels:\n",
    "            return True\n",
    "        return True"
   ]
  },
  {
   "cell_type": "code",
   "execution_count": 28,
   "id": "80769184",
   "metadata": {},
   "outputs": [
    {
     "data": {
      "text/plain": [
       "True"
      ]
     },
     "execution_count": 28,
     "metadata": {},
     "output_type": "execute_result"
    }
   ],
   "source": [
    "f_vowels('o')"
   ]
  },
  {
   "cell_type": "code",
   "execution_count": 29,
   "id": "837b3c5c",
   "metadata": {},
   "outputs": [
    {
     "data": {
      "text/plain": [
       "True"
      ]
     },
     "execution_count": 29,
     "metadata": {},
     "output_type": "execute_result"
    }
   ],
   "source": [
    "f_vowels('e')"
   ]
  }
 ],
 "metadata": {
  "kernelspec": {
   "display_name": "Python 3 (ipykernel)",
   "language": "python",
   "name": "python3"
  },
  "language_info": {
   "codemirror_mode": {
    "name": "ipython",
    "version": 3
   },
   "file_extension": ".py",
   "mimetype": "text/x-python",
   "name": "python",
   "nbconvert_exporter": "python",
   "pygments_lexer": "ipython3",
   "version": "3.9.7"
  }
 },
 "nbformat": 4,
 "nbformat_minor": 5
}
